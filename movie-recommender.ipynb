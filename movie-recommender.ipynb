{
 "cells": [
  {
   "cell_type": "code",
   "execution_count": 4,
   "id": "88a75dec-49d1-4534-be19-393c455ce1a5",
   "metadata": {},
   "outputs": [
    {
     "data": {
      "text/html": [
       "<div>\n",
       "<style scoped>\n",
       "    .dataframe tbody tr th:only-of-type {\n",
       "        vertical-align: middle;\n",
       "    }\n",
       "\n",
       "    .dataframe tbody tr th {\n",
       "        vertical-align: top;\n",
       "    }\n",
       "\n",
       "    .dataframe thead th {\n",
       "        text-align: right;\n",
       "    }\n",
       "</style>\n",
       "<table border=\"1\" class=\"dataframe\">\n",
       "  <thead>\n",
       "    <tr style=\"text-align: right;\">\n",
       "      <th></th>\n",
       "      <th>index</th>\n",
       "      <th>budget</th>\n",
       "      <th>genres</th>\n",
       "      <th>homepage</th>\n",
       "      <th>id</th>\n",
       "      <th>keywords</th>\n",
       "      <th>original_language</th>\n",
       "      <th>original_title</th>\n",
       "      <th>overview</th>\n",
       "      <th>popularity</th>\n",
       "      <th>...</th>\n",
       "      <th>runtime</th>\n",
       "      <th>spoken_languages</th>\n",
       "      <th>status</th>\n",
       "      <th>tagline</th>\n",
       "      <th>title</th>\n",
       "      <th>vote_average</th>\n",
       "      <th>vote_count</th>\n",
       "      <th>cast</th>\n",
       "      <th>crew</th>\n",
       "      <th>director</th>\n",
       "    </tr>\n",
       "  </thead>\n",
       "  <tbody>\n",
       "    <tr>\n",
       "      <th>0</th>\n",
       "      <td>0</td>\n",
       "      <td>237000000</td>\n",
       "      <td>Action Adventure Fantasy Science Fiction</td>\n",
       "      <td>http://www.avatarmovie.com/</td>\n",
       "      <td>19995</td>\n",
       "      <td>culture clash future space war space colony so...</td>\n",
       "      <td>en</td>\n",
       "      <td>Avatar</td>\n",
       "      <td>In the 22nd century, a paraplegic Marine is di...</td>\n",
       "      <td>150.437577</td>\n",
       "      <td>...</td>\n",
       "      <td>162.0</td>\n",
       "      <td>[{\"iso_639_1\": \"en\", \"name\": \"English\"}, {\"iso...</td>\n",
       "      <td>Released</td>\n",
       "      <td>Enter the World of Pandora.</td>\n",
       "      <td>Avatar</td>\n",
       "      <td>7.2</td>\n",
       "      <td>11800</td>\n",
       "      <td>Sam Worthington Zoe Saldana Sigourney Weaver S...</td>\n",
       "      <td>[{'name': 'Stephen E. Rivkin', 'gender': 0, 'd...</td>\n",
       "      <td>James Cameron</td>\n",
       "    </tr>\n",
       "    <tr>\n",
       "      <th>1</th>\n",
       "      <td>1</td>\n",
       "      <td>300000000</td>\n",
       "      <td>Adventure Fantasy Action</td>\n",
       "      <td>http://disney.go.com/disneypictures/pirates/</td>\n",
       "      <td>285</td>\n",
       "      <td>ocean drug abuse exotic island east india trad...</td>\n",
       "      <td>en</td>\n",
       "      <td>Pirates of the Caribbean: At World's End</td>\n",
       "      <td>Captain Barbossa, long believed to be dead, ha...</td>\n",
       "      <td>139.082615</td>\n",
       "      <td>...</td>\n",
       "      <td>169.0</td>\n",
       "      <td>[{\"iso_639_1\": \"en\", \"name\": \"English\"}]</td>\n",
       "      <td>Released</td>\n",
       "      <td>At the end of the world, the adventure begins.</td>\n",
       "      <td>Pirates of the Caribbean: At World's End</td>\n",
       "      <td>6.9</td>\n",
       "      <td>4500</td>\n",
       "      <td>Johnny Depp Orlando Bloom Keira Knightley Stel...</td>\n",
       "      <td>[{'name': 'Dariusz Wolski', 'gender': 2, 'depa...</td>\n",
       "      <td>Gore Verbinski</td>\n",
       "    </tr>\n",
       "    <tr>\n",
       "      <th>2</th>\n",
       "      <td>2</td>\n",
       "      <td>245000000</td>\n",
       "      <td>Action Adventure Crime</td>\n",
       "      <td>http://www.sonypictures.com/movies/spectre/</td>\n",
       "      <td>206647</td>\n",
       "      <td>spy based on novel secret agent sequel mi6</td>\n",
       "      <td>en</td>\n",
       "      <td>Spectre</td>\n",
       "      <td>A cryptic message from Bond’s past sends him o...</td>\n",
       "      <td>107.376788</td>\n",
       "      <td>...</td>\n",
       "      <td>148.0</td>\n",
       "      <td>[{\"iso_639_1\": \"fr\", \"name\": \"Fran\\u00e7ais\"},...</td>\n",
       "      <td>Released</td>\n",
       "      <td>A Plan No One Escapes</td>\n",
       "      <td>Spectre</td>\n",
       "      <td>6.3</td>\n",
       "      <td>4466</td>\n",
       "      <td>Daniel Craig Christoph Waltz L\\u00e9a Seydoux ...</td>\n",
       "      <td>[{'name': 'Thomas Newman', 'gender': 2, 'depar...</td>\n",
       "      <td>Sam Mendes</td>\n",
       "    </tr>\n",
       "    <tr>\n",
       "      <th>3</th>\n",
       "      <td>3</td>\n",
       "      <td>250000000</td>\n",
       "      <td>Action Crime Drama Thriller</td>\n",
       "      <td>http://www.thedarkknightrises.com/</td>\n",
       "      <td>49026</td>\n",
       "      <td>dc comics crime fighter terrorist secret ident...</td>\n",
       "      <td>en</td>\n",
       "      <td>The Dark Knight Rises</td>\n",
       "      <td>Following the death of District Attorney Harve...</td>\n",
       "      <td>112.312950</td>\n",
       "      <td>...</td>\n",
       "      <td>165.0</td>\n",
       "      <td>[{\"iso_639_1\": \"en\", \"name\": \"English\"}]</td>\n",
       "      <td>Released</td>\n",
       "      <td>The Legend Ends</td>\n",
       "      <td>The Dark Knight Rises</td>\n",
       "      <td>7.6</td>\n",
       "      <td>9106</td>\n",
       "      <td>Christian Bale Michael Caine Gary Oldman Anne ...</td>\n",
       "      <td>[{'name': 'Hans Zimmer', 'gender': 2, 'departm...</td>\n",
       "      <td>Christopher Nolan</td>\n",
       "    </tr>\n",
       "    <tr>\n",
       "      <th>4</th>\n",
       "      <td>4</td>\n",
       "      <td>260000000</td>\n",
       "      <td>Action Adventure Science Fiction</td>\n",
       "      <td>http://movies.disney.com/john-carter</td>\n",
       "      <td>49529</td>\n",
       "      <td>based on novel mars medallion space travel pri...</td>\n",
       "      <td>en</td>\n",
       "      <td>John Carter</td>\n",
       "      <td>John Carter is a war-weary, former military ca...</td>\n",
       "      <td>43.926995</td>\n",
       "      <td>...</td>\n",
       "      <td>132.0</td>\n",
       "      <td>[{\"iso_639_1\": \"en\", \"name\": \"English\"}]</td>\n",
       "      <td>Released</td>\n",
       "      <td>Lost in our world, found in another.</td>\n",
       "      <td>John Carter</td>\n",
       "      <td>6.1</td>\n",
       "      <td>2124</td>\n",
       "      <td>Taylor Kitsch Lynn Collins Samantha Morton Wil...</td>\n",
       "      <td>[{'name': 'Andrew Stanton', 'gender': 2, 'depa...</td>\n",
       "      <td>Andrew Stanton</td>\n",
       "    </tr>\n",
       "  </tbody>\n",
       "</table>\n",
       "<p>5 rows × 24 columns</p>\n",
       "</div>"
      ],
      "text/plain": [
       "   index     budget                                    genres  \\\n",
       "0      0  237000000  Action Adventure Fantasy Science Fiction   \n",
       "1      1  300000000                  Adventure Fantasy Action   \n",
       "2      2  245000000                    Action Adventure Crime   \n",
       "3      3  250000000               Action Crime Drama Thriller   \n",
       "4      4  260000000          Action Adventure Science Fiction   \n",
       "\n",
       "                                       homepage      id  \\\n",
       "0                   http://www.avatarmovie.com/   19995   \n",
       "1  http://disney.go.com/disneypictures/pirates/     285   \n",
       "2   http://www.sonypictures.com/movies/spectre/  206647   \n",
       "3            http://www.thedarkknightrises.com/   49026   \n",
       "4          http://movies.disney.com/john-carter   49529   \n",
       "\n",
       "                                            keywords original_language  \\\n",
       "0  culture clash future space war space colony so...                en   \n",
       "1  ocean drug abuse exotic island east india trad...                en   \n",
       "2         spy based on novel secret agent sequel mi6                en   \n",
       "3  dc comics crime fighter terrorist secret ident...                en   \n",
       "4  based on novel mars medallion space travel pri...                en   \n",
       "\n",
       "                             original_title  \\\n",
       "0                                    Avatar   \n",
       "1  Pirates of the Caribbean: At World's End   \n",
       "2                                   Spectre   \n",
       "3                     The Dark Knight Rises   \n",
       "4                               John Carter   \n",
       "\n",
       "                                            overview  popularity  ... runtime  \\\n",
       "0  In the 22nd century, a paraplegic Marine is di...  150.437577  ...   162.0   \n",
       "1  Captain Barbossa, long believed to be dead, ha...  139.082615  ...   169.0   \n",
       "2  A cryptic message from Bond’s past sends him o...  107.376788  ...   148.0   \n",
       "3  Following the death of District Attorney Harve...  112.312950  ...   165.0   \n",
       "4  John Carter is a war-weary, former military ca...   43.926995  ...   132.0   \n",
       "\n",
       "                                    spoken_languages    status  \\\n",
       "0  [{\"iso_639_1\": \"en\", \"name\": \"English\"}, {\"iso...  Released   \n",
       "1           [{\"iso_639_1\": \"en\", \"name\": \"English\"}]  Released   \n",
       "2  [{\"iso_639_1\": \"fr\", \"name\": \"Fran\\u00e7ais\"},...  Released   \n",
       "3           [{\"iso_639_1\": \"en\", \"name\": \"English\"}]  Released   \n",
       "4           [{\"iso_639_1\": \"en\", \"name\": \"English\"}]  Released   \n",
       "\n",
       "                                          tagline  \\\n",
       "0                     Enter the World of Pandora.   \n",
       "1  At the end of the world, the adventure begins.   \n",
       "2                           A Plan No One Escapes   \n",
       "3                                 The Legend Ends   \n",
       "4            Lost in our world, found in another.   \n",
       "\n",
       "                                      title vote_average vote_count  \\\n",
       "0                                    Avatar          7.2      11800   \n",
       "1  Pirates of the Caribbean: At World's End          6.9       4500   \n",
       "2                                   Spectre          6.3       4466   \n",
       "3                     The Dark Knight Rises          7.6       9106   \n",
       "4                               John Carter          6.1       2124   \n",
       "\n",
       "                                                cast  \\\n",
       "0  Sam Worthington Zoe Saldana Sigourney Weaver S...   \n",
       "1  Johnny Depp Orlando Bloom Keira Knightley Stel...   \n",
       "2  Daniel Craig Christoph Waltz L\\u00e9a Seydoux ...   \n",
       "3  Christian Bale Michael Caine Gary Oldman Anne ...   \n",
       "4  Taylor Kitsch Lynn Collins Samantha Morton Wil...   \n",
       "\n",
       "                                                crew           director  \n",
       "0  [{'name': 'Stephen E. Rivkin', 'gender': 0, 'd...      James Cameron  \n",
       "1  [{'name': 'Dariusz Wolski', 'gender': 2, 'depa...     Gore Verbinski  \n",
       "2  [{'name': 'Thomas Newman', 'gender': 2, 'depar...         Sam Mendes  \n",
       "3  [{'name': 'Hans Zimmer', 'gender': 2, 'departm...  Christopher Nolan  \n",
       "4  [{'name': 'Andrew Stanton', 'gender': 2, 'depa...     Andrew Stanton  \n",
       "\n",
       "[5 rows x 24 columns]"
      ]
     },
     "execution_count": 4,
     "metadata": {},
     "output_type": "execute_result"
    }
   ],
   "source": [
    "import pandas as pd\n",
    "import numpy as np\n",
    "import matplotlib.pyplot as plt\n",
    "import sklearn\n",
    "import seaborn as sns\n",
    "\n",
    "url = 'https://drive.google.com/uc?id=1cCkwiVv4mgfl20ntgY3n4yApcWqqZQe6'\n",
    "df = pd.read_csv(url)\n",
    "\n",
    "df.head()"
   ]
  },
  {
   "cell_type": "code",
   "execution_count": 5,
   "id": "2ebca778-d4b9-4fcf-9f8c-9116827a6df0",
   "metadata": {},
   "outputs": [],
   "source": [
    "from sklearn.metrics.pairwise import cosine_similarity\n",
    "from sklearn.feature_extraction.text import TfidfVectorizer"
   ]
  },
  {
   "cell_type": "code",
   "execution_count": 6,
   "id": "5f8ae306-6efe-43e2-82a2-aaecd5ec0e7f",
   "metadata": {},
   "outputs": [
    {
     "data": {
      "text/plain": [
       "(4803, 24)"
      ]
     },
     "execution_count": 6,
     "metadata": {},
     "output_type": "execute_result"
    }
   ],
   "source": [
    "df.shape"
   ]
  },
  {
   "cell_type": "markdown",
   "id": "dafb7ffe-332d-4604-b6c7-ba88759603af",
   "metadata": {},
   "source": [
    "# Feature Engineering"
   ]
  },
  {
   "cell_type": "code",
   "execution_count": 7,
   "id": "5bd6c1a8-8ab8-4f79-91c5-8c61c2bceec3",
   "metadata": {},
   "outputs": [],
   "source": [
    "# Using   genres , keywords , cast , director  , orginal_language , runtime"
   ]
  },
  {
   "cell_type": "code",
   "execution_count": 8,
   "id": "8e0d242f-0142-4ba8-826c-c207e8ed4c18",
   "metadata": {},
   "outputs": [],
   "source": [
    "selected_features = [\"genres\" ,\"keywords\"  , \"original_language\" , \"cast\" , \"director\" ,\"runtime\" ]"
   ]
  },
  {
   "cell_type": "code",
   "execution_count": 9,
   "id": "e093f10e-fa8f-4614-9bac-e2a5c1569460",
   "metadata": {},
   "outputs": [
    {
     "data": {
      "text/plain": [
       "['genres', 'keywords', 'original_language', 'cast', 'director', 'runtime']"
      ]
     },
     "execution_count": 9,
     "metadata": {},
     "output_type": "execute_result"
    }
   ],
   "source": [
    "selected_features"
   ]
  },
  {
   "cell_type": "code",
   "execution_count": 10,
   "id": "838ceb94-fbe6-4a67-b8dd-ac2ce4426690",
   "metadata": {},
   "outputs": [],
   "source": [
    "new_data = df[selected_features]\n"
   ]
  },
  {
   "cell_type": "code",
   "execution_count": 20,
   "id": "8c364e39-939b-4bb2-8fed-27875b457407",
   "metadata": {},
   "outputs": [
    {
     "name": "stderr",
     "output_type": "stream",
     "text": [
      "/var/folders/fd/2d33_ptj5sndr1qwvq88fzc40000gn/T/ipykernel_75208/1015503087.py:1: SettingWithCopyWarning: \n",
      "A value is trying to be set on a copy of a slice from a DataFrame\n",
      "\n",
      "See the caveats in the documentation: https://pandas.pydata.org/pandas-docs/stable/user_guide/indexing.html#returning-a-view-versus-a-copy\n",
      "  new_data.fillna(\"\" , inplace=True)\n"
     ]
    },
    {
     "data": {
      "text/plain": [
       "genres               0\n",
       "keywords             0\n",
       "original_language    0\n",
       "cast                 0\n",
       "director             0\n",
       "runtime              0\n",
       "dtype: int64"
      ]
     },
     "execution_count": 20,
     "metadata": {},
     "output_type": "execute_result"
    }
   ],
   "source": [
    "new_data.fillna(\"\" , inplace=True)\n",
    "new_data.isna().sum()\n",
    "# new_data.head()"
   ]
  },
  {
   "cell_type": "markdown",
   "id": "e5864652-636b-40e2-8f2e-15082a2a473e",
   "metadata": {},
   "source": [
    "# Converting the text data to numeric using TfidfVectorizer"
   ]
  },
  {
   "cell_type": "code",
   "execution_count": 21,
   "id": "e422380f-52b4-4159-a494-74f555338d48",
   "metadata": {},
   "outputs": [],
   "source": [
    "vectorizer = TfidfVectorizer()"
   ]
  },
  {
   "cell_type": "code",
   "execution_count": 22,
   "id": "f0fcc0ed-af9b-4b3e-8414-2f3f5b37df03",
   "metadata": {},
   "outputs": [],
   "source": [
    "# TfidfVectorizer() can only be applied on 1d hence this step:-\n",
    "combined_data = (\n",
    "    new_data['genres'] + ' ' +\n",
    "    new_data['keywords'] + ' ' +\n",
    "    new_data['original_language'] + ' ' +\n",
    "    new_data['cast'] + ' ' +\n",
    "    new_data['director']\n",
    ") "
   ]
  },
  {
   "cell_type": "code",
   "execution_count": 23,
   "id": "f28e2f00-2870-42de-b46f-fbfd7bde3a92",
   "metadata": {},
   "outputs": [
    {
     "data": {
      "text/plain": [
       "0       Action Adventure Fantasy Science Fiction cultu...\n",
       "1       Adventure Fantasy Action ocean drug abuse exot...\n",
       "2       Action Adventure Crime spy based on novel secr...\n",
       "3       Action Crime Drama Thriller dc comics crime fi...\n",
       "4       Action Adventure Science Fiction based on nove...\n",
       "                              ...                        \n",
       "4798    Action Crime Thriller united states\\u2013mexic...\n",
       "4799    Comedy Romance  en Edward Burns Kerry Bish\\u00...\n",
       "4800    Comedy Drama Romance TV Movie date love at fir...\n",
       "4801      en Daniel Henney Eliza Coupe Bill Paxton Ala...\n",
       "4802    Documentary obsession camcorder crush dream gi...\n",
       "Length: 4803, dtype: object"
      ]
     },
     "execution_count": 23,
     "metadata": {},
     "output_type": "execute_result"
    }
   ],
   "source": [
    "combined_data"
   ]
  },
  {
   "cell_type": "code",
   "execution_count": 24,
   "id": "d74fee83-6a3a-45bb-8819-9398991e13b7",
   "metadata": {},
   "outputs": [],
   "source": [
    "feature_vector = vectorizer.fit_transform(combined_data)"
   ]
  },
  {
   "cell_type": "code",
   "execution_count": 26,
   "id": "a6546a1a-b44d-461e-a0b4-e5c1586f7147",
   "metadata": {},
   "outputs": [
    {
     "name": "stdout",
     "output_type": "stream",
     "text": [
      "<Compressed Sparse Row sparse matrix of dtype 'float64'\n",
      "\twith 102348 stored elements and shape (4803, 14868)>\n",
      "  Coords\tValues\n",
      "  (0, 86)\t0.08502902364077554\n",
      "  (0, 144)\t0.09827307248858284\n",
      "  (0, 4442)\t0.12012539827085397\n",
      "  (0, 11761)\t0.11206402612776616\n",
      "  (0, 4573)\t0.11219522632812938\n",
      "  (0, 3119)\t0.23117155461447458\n",
      "  (0, 2618)\t0.2425925833210578\n",
      "  (0, 4893)\t0.1982420314391392\n",
      "  (0, 12403)\t0.3766735943238939\n",
      "  (0, 14256)\t0.13883081597626543\n",
      "  (0, 2758)\t0.2697284654771739\n",
      "  (0, 12316)\t0.2353052695326346\n",
      "  (0, 4168)\t0.03734352846690744\n",
      "  (0, 11533)\t0.16260042698137087\n",
      "  (0, 14582)\t0.2554982568835541\n",
      "  (0, 14843)\t0.21826588105197825\n",
      "  (0, 11506)\t0.2353052695326346\n",
      "  (0, 12150)\t0.22256873370821875\n",
      "  (0, 14312)\t0.21443342131163756\n",
      "  (0, 12584)\t0.16372359523879906\n",
      "  (0, 7505)\t0.24540176320809434\n",
      "  (0, 8840)\t0.17353590912089953\n",
      "  (0, 11232)\t0.20989860473942398\n",
      "  (0, 6551)\t0.1224234125135496\n",
      "  (0, 2063)\t0.1866518649944755\n",
      "  :\t:\n",
      "  (4801, 5852)\t0.322455239802952\n",
      "  (4801, 253)\t0.19806508189922148\n",
      "  (4801, 4102)\t0.2761196091597497\n",
      "  (4801, 14819)\t0.322455239802952\n",
      "  (4801, 11377)\t0.322455239802952\n",
      "  (4801, 2981)\t0.33805981278043257\n",
      "  (4801, 12052)\t0.33805981278043257\n",
      "  (4801, 6146)\t0.33805981278043257\n",
      "  (4802, 4168)\t0.034237731138568726\n",
      "  (4802, 9670)\t0.18318491155940214\n",
      "  (4802, 3816)\t0.18625172031371476\n",
      "  (4802, 1790)\t0.30740259750289656\n",
      "  (4802, 4215)\t0.15945108899596422\n",
      "  (4802, 5188)\t0.19550850589596044\n",
      "  (4802, 2915)\t0.2157353331216686\n",
      "  (4802, 3825)\t0.19343184103160443\n",
      "  (4802, 1071)\t0.19445342326058654\n",
      "  (4802, 11200)\t0.1682448861957286\n",
      "  (4802, 3685)\t0.15255199309872358\n",
      "  (4802, 5406)\t0.2157353331216686\n",
      "  (4802, 3898)\t0.23803882521173272\n",
      "  (4802, 2058)\t0.23803882521173272\n",
      "  (4802, 3096)\t0.26034231730179686\n",
      "  (4802, 4509)\t0.2277918957395304\n",
      "  (4802, 5908)\t0.5652916187837221\n"
     ]
    }
   ],
   "source": [
    "print(feature_vector)"
   ]
  },
  {
   "cell_type": "code",
   "execution_count": 27,
   "id": "ecdd5f4d-0e86-4277-b88c-7973f4619f5f",
   "metadata": {},
   "outputs": [],
   "source": [
    "similarity = cosine_similarity(feature_vector)"
   ]
  },
  {
   "cell_type": "code",
   "execution_count": 29,
   "id": "7404fc7c-31c4-43a7-9465-676352952968",
   "metadata": {},
   "outputs": [
    {
     "name": "stdout",
     "output_type": "stream",
     "text": [
      "[[1.         0.02820855 0.04616569 ... 0.00128325 0.00152922 0.00127856]\n",
      " [0.02820855 1.         0.01627439 ... 0.01762654 0.00131869 0.00110253]\n",
      " [0.04616569 0.01627439 1.         ... 0.0013247  0.06723507 0.00131986]\n",
      " ...\n",
      " [0.00128325 0.01762654 0.0013247  ... 1.         0.00140718 0.0266944 ]\n",
      " [0.00152922 0.00131869 0.06723507 ... 0.00140718 1.         0.00140204]\n",
      " [0.00127856 0.00110253 0.00131986 ... 0.0266944  0.00140204 1.        ]]\n"
     ]
    }
   ],
   "source": [
    "print(similarity)"
   ]
  },
  {
   "cell_type": "code",
   "execution_count": 33,
   "id": "df163a38-e1a5-4efb-868c-e384b506aaf6",
   "metadata": {},
   "outputs": [
    {
     "data": {
      "text/plain": [
       "(4803, 4803)"
      ]
     },
     "execution_count": 33,
     "metadata": {},
     "output_type": "execute_result"
    }
   ],
   "source": [
    "similarity.shape"
   ]
  },
  {
   "cell_type": "code",
   "execution_count": 37,
   "id": "55e886c9-23aa-480d-b2ba-829fc34e03eb",
   "metadata": {},
   "outputs": [
    {
     "name": "stdin",
     "output_type": "stream",
     "text": [
      "Enter Your Favourite movie name iron man\n"
     ]
    }
   ],
   "source": [
    "movie_name = input(\"Enter Your Favourite movie name\")"
   ]
  },
  {
   "cell_type": "code",
   "execution_count": 40,
   "id": "3e5ba503-42c5-47b7-abbb-3d99c73941a7",
   "metadata": {},
   "outputs": [],
   "source": [
    "all_title_list  = df[\"title\"].tolist()"
   ]
  },
  {
   "cell_type": "code",
   "execution_count": 43,
   "id": "19d4e4c3-a739-4215-9457-b3289e3e6186",
   "metadata": {},
   "outputs": [],
   "source": [
    "# print(all_title_list)"
   ]
  },
  {
   "cell_type": "code",
   "execution_count": 44,
   "id": "af339280-16ac-4bd4-bbeb-e644c7b523a0",
   "metadata": {},
   "outputs": [
    {
     "data": {
      "text/plain": [
       "['Iron Man', 'Iron Man 3', 'Iron Man 2']"
      ]
     },
     "execution_count": 44,
     "metadata": {},
     "output_type": "execute_result"
    }
   ],
   "source": [
    "import difflib\n",
    "difflib.get_close_matches(movie_name , all_title_list)"
   ]
  },
  {
   "cell_type": "code",
   "execution_count": 45,
   "id": "2c91cd73-553b-43a4-84b0-38c58dbd6b15",
   "metadata": {},
   "outputs": [],
   "source": [
    "close_match = difflib.get_close_matches(movie_name , all_title_list)[0]"
   ]
  },
  {
   "cell_type": "code",
   "execution_count": 75,
   "id": "f6477150-8088-4bb0-a203-e0aca829ecd0",
   "metadata": {},
   "outputs": [
    {
     "data": {
      "text/plain": [
       "'Iron Man'"
      ]
     },
     "execution_count": 75,
     "metadata": {},
     "output_type": "execute_result"
    }
   ],
   "source": [
    "close_match"
   ]
  },
  {
   "cell_type": "code",
   "execution_count": 77,
   "id": "89bd6409-7abe-4310-9ac5-74ade324e324",
   "metadata": {},
   "outputs": [
    {
     "name": "stdout",
     "output_type": "stream",
     "text": [
      "68\n"
     ]
    }
   ],
   "source": [
    "matched_rows = df[df.title == close_match]\n",
    "if not matched_rows.empty:\n",
    "    index = matched_rows[\"index\"].values[0]\n",
    "    print(index)\n",
    "else:\n",
    "    print(\"NOT FOUND\")"
   ]
  },
  {
   "cell_type": "code",
   "execution_count": null,
   "id": "32ea98e8-b45a-415c-aa8b-ecd174a3f4e2",
   "metadata": {},
   "outputs": [],
   "source": []
  }
 ],
 "metadata": {
  "kernelspec": {
   "display_name": "Python 3 (ipykernel)",
   "language": "python",
   "name": "python3"
  },
  "language_info": {
   "codemirror_mode": {
    "name": "ipython",
    "version": 3
   },
   "file_extension": ".py",
   "mimetype": "text/x-python",
   "name": "python",
   "nbconvert_exporter": "python",
   "pygments_lexer": "ipython3",
   "version": "3.13.5"
  }
 },
 "nbformat": 4,
 "nbformat_minor": 5
}
